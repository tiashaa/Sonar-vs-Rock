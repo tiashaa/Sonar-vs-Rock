{
  "nbformat": 4,
  "nbformat_minor": 0,
  "metadata": {
    "colab": {
      "name": "sonar vs rocks.ipynb",
      "provenance": [],
      "authorship_tag": "ABX9TyM7nbBJO27jrGPHmt/NKJTG",
      "include_colab_link": true
    },
    "kernelspec": {
      "name": "python3",
      "display_name": "Python 3"
    },
    "language_info": {
      "name": "python"
    }
  },
  "cells": [
    {
      "cell_type": "markdown",
      "metadata": {
        "id": "view-in-github",
        "colab_type": "text"
      },
      "source": [
        "<a href=\"https://colab.research.google.com/github/tiashaa/Sonar-vs-Rock/blob/main/sonar_vs_rocks.ipynb\" target=\"_parent\"><img src=\"https://colab.research.google.com/assets/colab-badge.svg\" alt=\"Open In Colab\"/></a>"
      ]
    },
    {
      "cell_type": "code",
      "execution_count": null,
      "metadata": {
        "id": "RUS5L3_q6npN",
        "colab": {
          "base_uri": "https://localhost:8080/"
        },
        "outputId": "d917c67d-4d83-4980-972c-650b21576620"
      },
      "outputs": [
        {
          "output_type": "stream",
          "name": "stdout",
          "text": [
            "Drive already mounted at /content/drive; to attempt to forcibly remount, call drive.mount(\"/content/drive\", force_remount=True).\n"
          ]
        }
      ],
      "source": [
        "from google.colab import drive\n",
        "drive.mount('/content/drive')"
      ]
    },
    {
      "cell_type": "markdown",
      "source": [
        "Logistic regression help a lot while identifying binary data"
      ],
      "metadata": {
        "id": "jii2ETW67nly"
      }
    },
    {
      "cell_type": "code",
      "source": [
        "import numpy as np\n",
        "import pandas as pd\n",
        "from sklearn.model_selection import train_test_split\n",
        "from sklearn.linear_model import LogisticRegression\n",
        "from sklearn.metrics import accuracy_score"
      ],
      "metadata": {
        "id": "5bPVFw_8-NqV"
      },
      "execution_count": null,
      "outputs": []
    },
    {
      "cell_type": "code",
      "source": [
        "#loading the dataset to a panda dataset\n",
        "sonar_data= pd.read_csv('/content/drive/MyDrive/Colab Notebooks/sonar.all-data.csv', header=None)\n",
        "\n"
      ],
      "metadata": {
        "id": "I_YtYvV1-yh8"
      },
      "execution_count": null,
      "outputs": []
    },
    {
      "cell_type": "code",
      "source": [
        "sonar_data.head"
      ],
      "metadata": {
        "id": "wn2Gm51PAG10"
      },
      "execution_count": null,
      "outputs": []
    },
    {
      "cell_type": "code",
      "source": [
        "sonar_data.shape"
      ],
      "metadata": {
        "colab": {
          "base_uri": "https://localhost:8080/"
        },
        "id": "wGNwjD2cA4qP",
        "outputId": "c9534c6d-95ec-48cb-c325-0cb2e8b27761"
      },
      "execution_count": null,
      "outputs": [
        {
          "output_type": "execute_result",
          "data": {
            "text/plain": [
              "(208, 61)"
            ]
          },
          "metadata": {},
          "execution_count": 8
        }
      ]
    },
    {
      "cell_type": "code",
      "source": [
        "sonar_data.describe()"
      ],
      "metadata": {
        "id": "m6D1i5hzBF1h"
      },
      "execution_count": null,
      "outputs": []
    },
    {
      "cell_type": "code",
      "source": [
        "sonar_data[60].value_counts()"
      ],
      "metadata": {
        "colab": {
          "base_uri": "https://localhost:8080/"
        },
        "id": "GomT9VQdBWVK",
        "outputId": "3afde86f-67d7-4062-ef6b-65390e29cc2f"
      },
      "execution_count": null,
      "outputs": [
        {
          "output_type": "execute_result",
          "data": {
            "text/plain": [
              "M    111\n",
              "R     97\n",
              "Name: 60, dtype: int64"
            ]
          },
          "metadata": {},
          "execution_count": 10
        }
      ]
    },
    {
      "cell_type": "code",
      "source": [
        "sonar_data.groupby(60).mean()"
      ],
      "metadata": {
        "id": "2_xrAlpJB59b"
      },
      "execution_count": null,
      "outputs": []
    },
    {
      "cell_type": "code",
      "source": [
        "#separating data and labels\n",
        "x= sonar_data.drop(columns=60, axis=1)\n",
        "y= sonar_data[60]"
      ],
      "metadata": {
        "id": "g0XnU7GtCdfG"
      },
      "execution_count": null,
      "outputs": []
    },
    {
      "cell_type": "code",
      "source": [
        "print(x)\n",
        "print(y)"
      ],
      "metadata": {
        "id": "EgEX2FDKC-1E"
      },
      "execution_count": null,
      "outputs": []
    },
    {
      "cell_type": "code",
      "source": [
        "#training and test data\n",
        "x_train, x_test, y_train, y_test=train_test_split(x,y, test_size=0.1, stratify=y, random_state=1)"
      ],
      "metadata": {
        "id": "Y5QeHFxNDFX9"
      },
      "execution_count": null,
      "outputs": []
    },
    {
      "cell_type": "code",
      "source": [
        "print(x.shape, x_train.shape, x_test.shape)"
      ],
      "metadata": {
        "colab": {
          "base_uri": "https://localhost:8080/"
        },
        "id": "gUmuBs0HEEAy",
        "outputId": "b6f3bb69-e9bb-4458-a3e0-b0c36cbf222b"
      },
      "execution_count": null,
      "outputs": [
        {
          "output_type": "stream",
          "name": "stdout",
          "text": [
            "(208, 60) (187, 60) (21, 60)\n"
          ]
        }
      ]
    },
    {
      "cell_type": "markdown",
      "source": [
        "Model Training\n"
      ],
      "metadata": {
        "id": "UI5D9VKRE5IM"
      }
    },
    {
      "cell_type": "code",
      "source": [
        "model= LogisticRegression()"
      ],
      "metadata": {
        "id": "HFlmq-OhE7vL"
      },
      "execution_count": null,
      "outputs": []
    },
    {
      "cell_type": "code",
      "source": [
        "#training the logistic regression with training data\n",
        "model.fit(x_train, y_train)"
      ],
      "metadata": {
        "id": "RQ1_uuFbFAKX"
      },
      "execution_count": null,
      "outputs": []
    },
    {
      "cell_type": "markdown",
      "source": [
        "Model evaluation, accurary on training data"
      ],
      "metadata": {
        "id": "QW0eeR66GfVG"
      }
    },
    {
      "cell_type": "code",
      "source": [
        "#accracy on training data\n",
        "x_train_prediction= model.predict(x_train)\n",
        "training_data_accuracy=accuracy_score(x_train_prediction, y_train)"
      ],
      "metadata": {
        "id": "yjdyUQKAFKF-"
      },
      "execution_count": null,
      "outputs": []
    },
    {
      "cell_type": "code",
      "source": [
        "print('Accuracy of training data:', training_data_accuracy)"
      ],
      "metadata": {
        "colab": {
          "base_uri": "https://localhost:8080/"
        },
        "id": "3sNaPr4yHYD1",
        "outputId": "88be446a-b08e-4bfd-9ab4-c4eb6c35ddd4"
      },
      "execution_count": null,
      "outputs": [
        {
          "output_type": "stream",
          "name": "stdout",
          "text": [
            "Accuracy of training data: 0.8342245989304813\n"
          ]
        }
      ]
    },
    {
      "cell_type": "code",
      "source": [
        "#accracy on test data\n",
        "x_test_prediction= model.predict(x_test)\n",
        "test_data_accuracy=accuracy_score(x_test_prediction, y_test)"
      ],
      "metadata": {
        "id": "uaOQilSFHgX8"
      },
      "execution_count": null,
      "outputs": []
    },
    {
      "cell_type": "code",
      "source": [
        "print('Accuracy on test data:', test_data_accuracy)"
      ],
      "metadata": {
        "colab": {
          "base_uri": "https://localhost:8080/"
        },
        "id": "UKyy8m5ZHtae",
        "outputId": "be0d5851-efdc-46dd-891f-ced1bda56db3"
      },
      "execution_count": null,
      "outputs": [
        {
          "output_type": "stream",
          "name": "stdout",
          "text": [
            "Accuracy on test data: 0.7619047619047619\n"
          ]
        }
      ]
    },
    {
      "cell_type": "markdown",
      "source": [
        "Making a predictive system"
      ],
      "metadata": {
        "id": "hORzM_r3H8jy"
      }
    },
    {
      "cell_type": "code",
      "source": [
        "input_data= (0.0206,0.0132,0.0533,0.0569,0.0647,0.1432,0.1344,0.2041,0.1571,0.1573,0.2327,0.1785,0.1507,0.1916,0.2061,0.2307,0.2360,0.1299,0.3812,0.5858,0.4497,0.4876,1.0000,0.8675,0.4718,0.5341,0.6197,0.7143,0.5605,0.3728,0.2481,0.1921,0.1386,0.3325,0.2883,0.3228,0.2607,0.2040,0.2396,0.1319,0.0683,0.0334,0.0716,0.0976,0.0787,0.0522,0.0500,0.0231,0.0221,0.0144,0.0307,0.0386,0.0147,0.0018,0.0100,0.0096,0.0077,0.0180,0.0109,0.0070)\n",
        "#changing data type to a numpy array\n",
        "input_data_as_numpy_array= np.asarray(input_data)\n",
        "#reshape the np array as we are predicting for one instance\n",
        "input_data_reshaped= input_data_as_numpy_array.reshape(1,-1)\n",
        "prediction=model.predict(input_data_reshaped)\n",
        "print(prediction)\n",
        "if prediction[0] == 'R':\n",
        "    print('The object is a rock.')\n",
        "else:\n",
        "    print('The object is a mine.')"
      ],
      "metadata": {
        "colab": {
          "base_uri": "https://localhost:8080/"
        },
        "id": "Ipq7haD3Hy6b",
        "outputId": "9c93612e-afc1-4206-b16b-cf6930e5486d"
      },
      "execution_count": null,
      "outputs": [
        {
          "output_type": "stream",
          "name": "stdout",
          "text": [
            "['R']\n",
            "The object is a rock.\n"
          ]
        }
      ]
    }
  ]
}